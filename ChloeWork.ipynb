{
 "cells": [
  {
   "cell_type": "markdown",
   "id": "4013f2cc-27f4-403f-b7e3-eb84f08bcac2",
   "metadata": {},
   "source": [
    "## Geology Research"
   ]
  },
  {
   "cell_type": "markdown",
   "id": "2dc75028-d664-449b-a397-9ec6438454b8",
   "metadata": {},
   "source": [
    "The data is taken in the Elysium Planetia region of the planet. Elysium Planetia is a region defined by high volcanic activity as result of a mantle plume with some of the highest slopes on the planet! Because of the mantle plume aspect, we decided to compare it to the Yellowstone region of the united states. The area is heavily monitered by the USGS and is centeralized by one large volcano just like Elysium Panetia (Elysium Mons)."
   ]
  },
  {
   "cell_type": "markdown",
   "id": "6f7f1d72-e80a-4e54-b8c1-e12a7602f9d5",
   "metadata": {},
   "source": [
    "https://pubs.usgs.gov/imap/i2782/i2782_sh1.pdf\n",
    "\n",
    "https://link.springer.com/article/10.1007/BF00114309\n",
    "\n",
    "https://www.earthmagazine.org/article/question-mantle-plumes/"
   ]
  },
  {
   "cell_type": "markdown",
   "id": "1667e79b-5fa5-4b73-8ffb-7a5852c67e96",
   "metadata": {},
   "source": [
    "**If yellowstone data doesnt do anything specifically cross reference the earthquake map to the IRIS database**"
   ]
  },
  {
   "cell_type": "code",
   "execution_count": null,
   "id": "7e345632-cc49-4150-a055-b9787e9f8836",
   "metadata": {},
   "outputs": [],
   "source": []
  }
 ],
 "metadata": {
  "kernelspec": {
   "display_name": "Python 3 (ipykernel)",
   "language": "python",
   "name": "python3"
  },
  "language_info": {
   "codemirror_mode": {
    "name": "ipython",
    "version": 3
   },
   "file_extension": ".py",
   "mimetype": "text/x-python",
   "name": "python",
   "nbconvert_exporter": "python",
   "pygments_lexer": "ipython3",
   "version": "3.9.13"
  }
 },
 "nbformat": 4,
 "nbformat_minor": 5
}
