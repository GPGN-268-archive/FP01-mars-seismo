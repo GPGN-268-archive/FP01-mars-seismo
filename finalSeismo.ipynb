{
 "cells": [
  {
   "cell_type": "markdown",
   "id": "4dc126dc-bc26-4cc6-bf0a-78ac1a13811c",
   "metadata": {},
   "source": [
    "## Mars vs Earth Seismology Comparison"
   ]
  },
  {
   "cell_type": "code",
   "execution_count": null,
   "id": "dacecac5-42e5-497b-bbe3-ec30dc09c42c",
   "metadata": {},
   "outputs": [],
   "source": [
    "# import necessary files for running code\n",
    "import numpy as np\n",
    "import matplotlib.pyplot as plt\n",
    "from obspy import read_inventory, read\n",
    "from obspy.clients.fdsn import Client\n",
    "from obspy.core import UTCDateTime, Stream, read, Trace"
   ]
  },
  {
   "cell_type": "markdown",
   "id": "e0ba1c6f-6623-4933-b3f4-9207dbcaa585",
   "metadata": {},
   "source": [
    "### Mars Data"
   ]
  },
  {
   "cell_type": "markdown",
   "id": "bc83806f-a05f-40d3-8eee-fa333f451bbb",
   "metadata": {},
   "source": [
    "Location"
   ]
  },
  {
   "cell_type": "code",
   "execution_count": null,
   "id": "d897e889-45ef-4ff3-bccd-befe77a80bae",
   "metadata": {},
   "outputs": [],
   "source": [
    "\n",
    "\n",
    "st1 = read(\"Mars.mseed\")\n",
    "st2 = read('S0931a_DISP.mseed')\n",
    "st3 = read('S0931a_VEL.mseed')\n",
    "\n",
    "channels = ['BHZ']\n",
    "\n",
    "# stream \n",
    "st1.filter(type='highpass', freq=0.01)\n",
    "st1 = st1.select(component='Z')\n",
    "print(st1)  \n",
    "\n",
    "#trace \n",
    "tr1 = st1[0]\n",
    "print(tr1)\n",
    "print(tr1.stats) \n",
    "print(tr1.data)\n",
    "\n",
    "# stream \n",
    "st2.filter(type='highpass', freq=0.1)\n",
    "st2 = st2.select(component='Z')\n",
    "print(st2)  \n",
    "\n",
    "#trace \n",
    "tr2 = st2[0]\n",
    "print(tr2)\n",
    "print(tr2.stats) \n",
    "print(tr2.data)\n",
    "\n",
    "# stream \n",
    "st3.filter(type='highpass', freq=0.1)\n",
    "st3 = st3.select(component='Z')\n",
    "print(st3)  \n",
    "\n",
    "#trace \n",
    "tr3 = st3[0]\n",
    "print(tr3)\n",
    "print(tr3.stats) \n",
    "print(tr3.data)"
   ]
  },
  {
   "cell_type": "markdown",
   "id": "cfd7acc8-039c-480a-bc76-94d8ba3b34bc",
   "metadata": {},
   "source": [
    "### Earth Data"
   ]
  },
  {
   "cell_type": "markdown",
   "id": "9f67b47b-a301-4790-8a3d-1a7ea7225909",
   "metadata": {},
   "source": [
    "Location "
   ]
  }
 ],
 "metadata": {
  "kernelspec": {
   "display_name": "Python 3 (ipykernel)",
   "language": "python",
   "name": "python3"
  },
  "language_info": {
   "codemirror_mode": {
    "name": "ipython",
    "version": 3
   },
   "file_extension": ".py",
   "mimetype": "text/x-python",
   "name": "python",
   "nbconvert_exporter": "python",
   "pygments_lexer": "ipython3",
   "version": "3.9.16"
  }
 },
 "nbformat": 4,
 "nbformat_minor": 5
}
