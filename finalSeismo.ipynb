{
 "cells": [
  {
   "cell_type": "markdown",
   "id": "4dc126dc-bc26-4cc6-bf0a-78ac1a13811c",
   "metadata": {},
   "source": [
    "## Mars vs Earth Seismology Comparison"
   ]
  },
  {
   "cell_type": "code",
   "execution_count": 1,
   "id": "dacecac5-42e5-497b-bbe3-ec30dc09c42c",
   "metadata": {},
   "outputs": [],
   "source": [
    "# import necessary files for running code\n",
    "import numpy as np\n",
    "import matplotlib.pyplot as plt\n",
    "from obspy import read_inventory, read\n",
    "from obspy.clients.fdsn import Client\n",
    "from obspy.core import UTCDateTime, Stream, read, Trace"
   ]
  },
  {
   "cell_type": "markdown",
   "id": "e0ba1c6f-6623-4933-b3f4-9207dbcaa585",
   "metadata": {},
   "source": [
    "### Mars Data"
   ]
  },
  {
   "cell_type": "markdown",
   "id": "bc83806f-a05f-40d3-8eee-fa333f451bbb",
   "metadata": {},
   "source": [
    "Location Info"
   ]
  },
  {
   "cell_type": "code",
   "execution_count": 2,
   "id": "d897e889-45ef-4ff3-bccd-befe77a80bae",
   "metadata": {},
   "outputs": [
    {
     "ename": "FileNotFoundError",
     "evalue": "[Errno 2] No such file or directory: 'S0931a_DISP.mseed'",
     "output_type": "error",
     "traceback": [
      "\u001b[1;31m---------------------------------------------------------------------------\u001b[0m",
      "\u001b[1;31mFileNotFoundError\u001b[0m                         Traceback (most recent call last)",
      "Cell \u001b[1;32mIn[2], line 2\u001b[0m\n\u001b[0;32m      1\u001b[0m st1 \u001b[38;5;241m=\u001b[39m read(\u001b[38;5;124m\"\u001b[39m\u001b[38;5;124mMars.mseed\u001b[39m\u001b[38;5;124m\"\u001b[39m)\n\u001b[1;32m----> 2\u001b[0m st2 \u001b[38;5;241m=\u001b[39m \u001b[43mread\u001b[49m\u001b[43m(\u001b[49m\u001b[38;5;124;43m'\u001b[39;49m\u001b[38;5;124;43mS0931a_DISP.mseed\u001b[39;49m\u001b[38;5;124;43m'\u001b[39;49m\u001b[43m)\u001b[49m\n\u001b[0;32m      3\u001b[0m st3 \u001b[38;5;241m=\u001b[39m read(\u001b[38;5;124m'\u001b[39m\u001b[38;5;124mS0931a_VEL.mseed\u001b[39m\u001b[38;5;124m'\u001b[39m)\n\u001b[0;32m      5\u001b[0m channels \u001b[38;5;241m=\u001b[39m [\u001b[38;5;124m'\u001b[39m\u001b[38;5;124mBHZ\u001b[39m\u001b[38;5;124m'\u001b[39m]\n",
      "File \u001b[1;32m~\\anaconda3\\lib\\site-packages\\decorator.py:232\u001b[0m, in \u001b[0;36mdecorate.<locals>.fun\u001b[1;34m(*args, **kw)\u001b[0m\n\u001b[0;32m    230\u001b[0m \u001b[38;5;28;01mif\u001b[39;00m \u001b[38;5;129;01mnot\u001b[39;00m kwsyntax:\n\u001b[0;32m    231\u001b[0m     args, kw \u001b[38;5;241m=\u001b[39m fix(args, kw, sig)\n\u001b[1;32m--> 232\u001b[0m \u001b[38;5;28;01mreturn\u001b[39;00m caller(func, \u001b[38;5;241m*\u001b[39m(extras \u001b[38;5;241m+\u001b[39m args), \u001b[38;5;241m*\u001b[39m\u001b[38;5;241m*\u001b[39mkw)\n",
      "File \u001b[1;32m~\\anaconda3\\lib\\site-packages\\obspy\\core\\util\\decorator.py:297\u001b[0m, in \u001b[0;36mmap_example_filename.<locals>._map_example_filename\u001b[1;34m(func, *args, **kwargs)\u001b[0m\n\u001b[0;32m    295\u001b[0m                 \u001b[38;5;28;01mexcept\u001b[39;00m \u001b[38;5;167;01mIOError\u001b[39;00m:\n\u001b[0;32m    296\u001b[0m                     \u001b[38;5;28;01mpass\u001b[39;00m\n\u001b[1;32m--> 297\u001b[0m \u001b[38;5;28;01mreturn\u001b[39;00m func(\u001b[38;5;241m*\u001b[39margs, \u001b[38;5;241m*\u001b[39m\u001b[38;5;241m*\u001b[39mkwargs)\n",
      "File \u001b[1;32m~\\anaconda3\\lib\\site-packages\\obspy\\core\\stream.py:208\u001b[0m, in \u001b[0;36mread\u001b[1;34m(pathname_or_url, format, headonly, starttime, endtime, nearest_sample, dtype, apply_calib, check_compression, **kwargs)\u001b[0m\n\u001b[0;32m    206\u001b[0m     st \u001b[38;5;241m=\u001b[39m _create_example_stream(headonly\u001b[38;5;241m=\u001b[39mheadonly)\n\u001b[0;32m    207\u001b[0m \u001b[38;5;28;01melse\u001b[39;00m:\n\u001b[1;32m--> 208\u001b[0m     st \u001b[38;5;241m=\u001b[39m _generic_reader(pathname_or_url, _read, \u001b[38;5;241m*\u001b[39m\u001b[38;5;241m*\u001b[39mkwargs)\n\u001b[0;32m    210\u001b[0m \u001b[38;5;28;01mif\u001b[39;00m \u001b[38;5;28mlen\u001b[39m(st) \u001b[38;5;241m==\u001b[39m \u001b[38;5;241m0\u001b[39m:\n\u001b[0;32m    211\u001b[0m     \u001b[38;5;66;03m# try to give more specific information why the stream is empty\u001b[39;00m\n\u001b[0;32m    212\u001b[0m     \u001b[38;5;28;01mif\u001b[39;00m has_magic(pathname_or_url) \u001b[38;5;129;01mand\u001b[39;00m \u001b[38;5;129;01mnot\u001b[39;00m glob(pathname_or_url):\n",
      "File \u001b[1;32m~\\anaconda3\\lib\\site-packages\\obspy\\core\\util\\base.py:656\u001b[0m, in \u001b[0;36m_generic_reader\u001b[1;34m(pathname_or_url, callback_func, **kwargs)\u001b[0m\n\u001b[0;32m    654\u001b[0m         \u001b[38;5;28;01mraise\u001b[39;00m \u001b[38;5;167;01mException\u001b[39;00m(\u001b[38;5;124m\"\u001b[39m\u001b[38;5;124mNo file matching file pattern: \u001b[39m\u001b[38;5;132;01m%s\u001b[39;00m\u001b[38;5;124m\"\u001b[39m \u001b[38;5;241m%\u001b[39m pathname)\n\u001b[0;32m    655\u001b[0m     \u001b[38;5;28;01melif\u001b[39;00m \u001b[38;5;129;01mnot\u001b[39;00m glob\u001b[38;5;241m.\u001b[39mhas_magic(pathname) \u001b[38;5;129;01mand\u001b[39;00m \u001b[38;5;129;01mnot\u001b[39;00m Path(pathname)\u001b[38;5;241m.\u001b[39mis_file():\n\u001b[1;32m--> 656\u001b[0m         \u001b[38;5;28;01mraise\u001b[39;00m \u001b[38;5;167;01mIOError\u001b[39;00m(\u001b[38;5;241m2\u001b[39m, \u001b[38;5;124m\"\u001b[39m\u001b[38;5;124mNo such file or directory\u001b[39m\u001b[38;5;124m\"\u001b[39m, pathname)\n\u001b[0;32m    658\u001b[0m generic \u001b[38;5;241m=\u001b[39m callback_func(pathnames[\u001b[38;5;241m0\u001b[39m], \u001b[38;5;241m*\u001b[39m\u001b[38;5;241m*\u001b[39mkwargs)\n\u001b[0;32m    659\u001b[0m \u001b[38;5;28;01mif\u001b[39;00m \u001b[38;5;28mlen\u001b[39m(pathnames) \u001b[38;5;241m>\u001b[39m \u001b[38;5;241m1\u001b[39m:\n",
      "\u001b[1;31mFileNotFoundError\u001b[0m: [Errno 2] No such file or directory: 'S0931a_DISP.mseed'"
     ]
    }
   ],
   "source": [
    "def readSeismoData(stream, channel, freq):\n",
    "    channel = channel\n",
    "    freq=freq\n",
    "    stream.filter(type='highpass', freq)\n",
    "    stream.select(component='Z')\n",
    "    trace = stream[0]\n",
    "\n",
    "st1 = read(\"Mars.mseed\")\n",
    "st2 = read('S0931a_DISP.mseed')\n",
    "st3 = read('S0931a_VEL.mseed')\n",
    "\n",
    "channels = ['BHZ']\n",
    "\n",
    "# stream \n",
    "st1.filter(type='highpass', freq=0.01)\n",
    "st1 = st1.select(component='Z')\n",
    "print(st1)  \n",
    "\n",
    "#trace \n",
    "tr1 = st1[0]\n",
    "print(tr1)\n",
    "print(tr1.stats) \n",
    "print(tr1.data)\n",
    "\n",
    "# stream \n",
    "st2.filter(type='highpass', freq=0.1)\n",
    "st2 = st2.select(component='Z')\n",
    "print(st2)  \n",
    "\n",
    "#trace \n",
    "tr2 = st2[0]\n",
    "print(tr2)\n",
    "print(tr2.stats) \n",
    "print(tr2.data)\n",
    "\n",
    "# stream \n",
    "st3.filter(type='highpass', freq=0.1)\n",
    "st3 = st3.select(component='Z')\n",
    "print(st3)  \n",
    "\n",
    "#trace \n",
    "tr3 = st3[0]\n",
    "print(tr3)\n",
    "print(tr3.stats) \n",
    "print(tr3.data)"
   ]
  },
  {
   "cell_type": "markdown",
   "id": "cfd7acc8-039c-480a-bc76-94d8ba3b34bc",
   "metadata": {},
   "source": [
    "### Earth Data"
   ]
  },
  {
   "cell_type": "markdown",
   "id": "9f67b47b-a301-4790-8a3d-1a7ea7225909",
   "metadata": {},
   "source": [
    "The data is taken in the Elysium Planetia region of the planet. Elysium Planetia is a region defined by high volcanic activity as result of a mantle plume with some of the highest slopes on the planet! Because of the mantle plume aspect, we decided to compare it to the Yellowstone region of the united states. The area is heavily monitered by the USGS and is centeralized by one large volcano just like Elysium Panetia (Elysium Mons)."
   ]
  },
  {
   "cell_type": "code",
   "execution_count": null,
   "id": "610005db-2f85-4a4b-b826-5cedf7bd3ffe",
   "metadata": {},
   "outputs": [],
   "source": []
  }
 ],
 "metadata": {
  "kernelspec": {
   "display_name": "Python 3 (ipykernel)",
   "language": "python",
   "name": "python3"
  },
  "language_info": {
   "codemirror_mode": {
    "name": "ipython",
    "version": 3
   },
   "file_extension": ".py",
   "mimetype": "text/x-python",
   "name": "python",
   "nbconvert_exporter": "python",
   "pygments_lexer": "ipython3",
   "version": "3.9.16"
  }
 },
 "nbformat": 4,
 "nbformat_minor": 5
}
